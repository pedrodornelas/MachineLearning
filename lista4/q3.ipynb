{
 "cells": [
  {
   "cell_type": "code",
   "execution_count": 17,
   "metadata": {},
   "outputs": [
    {
     "name": "stdout",
     "output_type": "stream",
     "text": [
      "Tamanho dataset: 10000\n",
      "Class 0: 9508 (95.08%)\n",
      "Class 1: 492 (4.92%)\n"
     ]
    }
   ],
   "source": [
    "import pandas as pd\n",
    "import numpy as np\n",
    "from sklearn.model_selection import train_test_split\n",
    "from sklearn.svm import SVC\n",
    "from sklearn.metrics import accuracy_score, mean_squared_error\n",
    "from sklearn.model_selection import GridSearchCV\n",
    "from sklearn.metrics import confusion_matrix\n",
    "import matplotlib.pyplot as plt\n",
    "\n",
    "# devemos primeiramente ler o dataset e separar as amostras dos rotulos\n",
    "df = pd.read_csv(\"data/creditcard.csv\")\n",
    "\n",
    "# tive problemas dado o tamanho do dataset utilizado, logo tive que reduzir\n",
    "# o dataset tem a característica de que os dados de classe 1 são anomalias ou outliers\n",
    "tam_dataset = 10000\n",
    "\n",
    "df1 = df[df['Class']==1]\n",
    "df2 = df[df['Class']==0]\n",
    "\n",
    "# aux = int((perc_dataset/100)*len(df))-len(df1)\n",
    "aux = tam_dataset-len(df1)\n",
    "print(f'Tamanho dataset: {aux+len(df1)}')\n",
    "\n",
    "df_aux = df2.iloc[:aux, :]\n",
    "df = pd.concat([df1, df_aux])\n",
    "\n",
    "# print(df.head())\n",
    "\n",
    "x = df.iloc[:, :-1]  # tirar a última coluna\n",
    "y = df.iloc[:, -1]   # somente última coluna (rotulos)\n",
    "\n",
    "class_perc = df.value_counts('Class')\n",
    "n_samples = len(df)\n",
    "\n",
    "for i,item in enumerate(class_perc):\n",
    "    print(f'Class {i}: {item} ({round(item/n_samples * 100, 2)}%)')"
   ]
  },
  {
   "cell_type": "code",
   "execution_count": 2,
   "metadata": {},
   "outputs": [
    {
     "name": "stdout",
     "output_type": "stream",
     "text": [
      "Número de amostras do dataset: 10000 (100%)\n",
      "Tamanho do conjunto de treino: 9000 (90.0%)\n",
      "Tamanho do conjunto de testes: 1000 (10.0%)\n",
      "Treinamento Class 0: 8557 (95.08%)\n",
      "Treinamento Class 1: 443 (4.92%)\n"
     ]
    }
   ],
   "source": [
    "# devemos separar o dataset em 2 conjuntos: treino, testes\n",
    "# para isso utilizaremos a tecnica do sklearn para dividir os conjuntos de forma balanceada\n",
    "\n",
    "# dividir primeiro entre treino e teste\n",
    "x_train, x_test, y_train, y_test = train_test_split(x, y, test_size=0.1, stratify=y)\n",
    "\n",
    "print(f'Número de amostras do dataset: {len(x)} (100%)')\n",
    "print(f'Tamanho do conjunto de treino: {len(x_train)} ({round(len(x_train)*100/len(x),2)}%)')\n",
    "print(f'Tamanho do conjunto de testes: {len(x_test)} ({round(len(x_test)*100/len(x),2)}%)')\n",
    "\n",
    "class_perc_train = y_train.value_counts()\n",
    "n_samples_train = len(y_train)\n",
    "for i,item in enumerate(class_perc_train):\n",
    "    print(f'Treinamento Class {i}: {item} ({round(item/n_samples_train * 100, 2)}%)')"
   ]
  },
  {
   "cell_type": "code",
   "execution_count": 10,
   "metadata": {},
   "outputs": [
    {
     "data": {
      "text/html": [
       "<style>#sk-container-id-2 {color: black;background-color: white;}#sk-container-id-2 pre{padding: 0;}#sk-container-id-2 div.sk-toggleable {background-color: white;}#sk-container-id-2 label.sk-toggleable__label {cursor: pointer;display: block;width: 100%;margin-bottom: 0;padding: 0.3em;box-sizing: border-box;text-align: center;}#sk-container-id-2 label.sk-toggleable__label-arrow:before {content: \"▸\";float: left;margin-right: 0.25em;color: #696969;}#sk-container-id-2 label.sk-toggleable__label-arrow:hover:before {color: black;}#sk-container-id-2 div.sk-estimator:hover label.sk-toggleable__label-arrow:before {color: black;}#sk-container-id-2 div.sk-toggleable__content {max-height: 0;max-width: 0;overflow: hidden;text-align: left;background-color: #f0f8ff;}#sk-container-id-2 div.sk-toggleable__content pre {margin: 0.2em;color: black;border-radius: 0.25em;background-color: #f0f8ff;}#sk-container-id-2 input.sk-toggleable__control:checked~div.sk-toggleable__content {max-height: 200px;max-width: 100%;overflow: auto;}#sk-container-id-2 input.sk-toggleable__control:checked~label.sk-toggleable__label-arrow:before {content: \"▾\";}#sk-container-id-2 div.sk-estimator input.sk-toggleable__control:checked~label.sk-toggleable__label {background-color: #d4ebff;}#sk-container-id-2 div.sk-label input.sk-toggleable__control:checked~label.sk-toggleable__label {background-color: #d4ebff;}#sk-container-id-2 input.sk-hidden--visually {border: 0;clip: rect(1px 1px 1px 1px);clip: rect(1px, 1px, 1px, 1px);height: 1px;margin: -1px;overflow: hidden;padding: 0;position: absolute;width: 1px;}#sk-container-id-2 div.sk-estimator {font-family: monospace;background-color: #f0f8ff;border: 1px dotted black;border-radius: 0.25em;box-sizing: border-box;margin-bottom: 0.5em;}#sk-container-id-2 div.sk-estimator:hover {background-color: #d4ebff;}#sk-container-id-2 div.sk-parallel-item::after {content: \"\";width: 100%;border-bottom: 1px solid gray;flex-grow: 1;}#sk-container-id-2 div.sk-label:hover label.sk-toggleable__label {background-color: #d4ebff;}#sk-container-id-2 div.sk-serial::before {content: \"\";position: absolute;border-left: 1px solid gray;box-sizing: border-box;top: 0;bottom: 0;left: 50%;z-index: 0;}#sk-container-id-2 div.sk-serial {display: flex;flex-direction: column;align-items: center;background-color: white;padding-right: 0.2em;padding-left: 0.2em;position: relative;}#sk-container-id-2 div.sk-item {position: relative;z-index: 1;}#sk-container-id-2 div.sk-parallel {display: flex;align-items: stretch;justify-content: center;background-color: white;position: relative;}#sk-container-id-2 div.sk-item::before, #sk-container-id-2 div.sk-parallel-item::before {content: \"\";position: absolute;border-left: 1px solid gray;box-sizing: border-box;top: 0;bottom: 0;left: 50%;z-index: -1;}#sk-container-id-2 div.sk-parallel-item {display: flex;flex-direction: column;z-index: 1;position: relative;background-color: white;}#sk-container-id-2 div.sk-parallel-item:first-child::after {align-self: flex-end;width: 50%;}#sk-container-id-2 div.sk-parallel-item:last-child::after {align-self: flex-start;width: 50%;}#sk-container-id-2 div.sk-parallel-item:only-child::after {width: 0;}#sk-container-id-2 div.sk-dashed-wrapped {border: 1px dashed gray;margin: 0 0.4em 0.5em 0.4em;box-sizing: border-box;padding-bottom: 0.4em;background-color: white;}#sk-container-id-2 div.sk-label label {font-family: monospace;font-weight: bold;display: inline-block;line-height: 1.2em;}#sk-container-id-2 div.sk-label-container {text-align: center;}#sk-container-id-2 div.sk-container {/* jupyter's `normalize.less` sets `[hidden] { display: none; }` but bootstrap.min.css set `[hidden] { display: none !important; }` so we also need the `!important` here to be able to override the default hidden behavior on the sphinx rendered scikit-learn.org. See: https://github.com/scikit-learn/scikit-learn/issues/21755 */display: inline-block !important;position: relative;}#sk-container-id-2 div.sk-text-repr-fallback {display: none;}</style><div id=\"sk-container-id-2\" class=\"sk-top-container\"><div class=\"sk-text-repr-fallback\"><pre>GridSearchCV(estimator=SVC(),\n",
       "             param_grid=[{&#x27;C&#x27;: [0.1, 1, 10], &#x27;degree&#x27;: [2, 3, 4],\n",
       "                          &#x27;kernel&#x27;: [&#x27;poly&#x27;]},\n",
       "                         {&#x27;C&#x27;: [0.1, 1, 10], &#x27;gamma&#x27;: [&#x27;scale&#x27;],\n",
       "                          &#x27;kernel&#x27;: [&#x27;rbf&#x27;]},\n",
       "                         {&#x27;C&#x27;: [0.1, 1, 10], &#x27;gamma&#x27;: [&#x27;scale&#x27;],\n",
       "                          &#x27;kernel&#x27;: [&#x27;sigmoid&#x27;]},\n",
       "                         {&#x27;C&#x27;: [0.1, 1, 10], &#x27;kernel&#x27;: [&#x27;linear&#x27;]}],\n",
       "             scoring=&#x27;accuracy&#x27;)</pre><b>In a Jupyter environment, please rerun this cell to show the HTML representation or trust the notebook. <br />On GitHub, the HTML representation is unable to render, please try loading this page with nbviewer.org.</b></div><div class=\"sk-container\" hidden><div class=\"sk-item sk-dashed-wrapped\"><div class=\"sk-label-container\"><div class=\"sk-label sk-toggleable\"><input class=\"sk-toggleable__control sk-hidden--visually\" id=\"sk-estimator-id-4\" type=\"checkbox\" ><label for=\"sk-estimator-id-4\" class=\"sk-toggleable__label sk-toggleable__label-arrow\">GridSearchCV</label><div class=\"sk-toggleable__content\"><pre>GridSearchCV(estimator=SVC(),\n",
       "             param_grid=[{&#x27;C&#x27;: [0.1, 1, 10], &#x27;degree&#x27;: [2, 3, 4],\n",
       "                          &#x27;kernel&#x27;: [&#x27;poly&#x27;]},\n",
       "                         {&#x27;C&#x27;: [0.1, 1, 10], &#x27;gamma&#x27;: [&#x27;scale&#x27;],\n",
       "                          &#x27;kernel&#x27;: [&#x27;rbf&#x27;]},\n",
       "                         {&#x27;C&#x27;: [0.1, 1, 10], &#x27;gamma&#x27;: [&#x27;scale&#x27;],\n",
       "                          &#x27;kernel&#x27;: [&#x27;sigmoid&#x27;]},\n",
       "                         {&#x27;C&#x27;: [0.1, 1, 10], &#x27;kernel&#x27;: [&#x27;linear&#x27;]}],\n",
       "             scoring=&#x27;accuracy&#x27;)</pre></div></div></div><div class=\"sk-parallel\"><div class=\"sk-parallel-item\"><div class=\"sk-item\"><div class=\"sk-label-container\"><div class=\"sk-label sk-toggleable\"><input class=\"sk-toggleable__control sk-hidden--visually\" id=\"sk-estimator-id-5\" type=\"checkbox\" ><label for=\"sk-estimator-id-5\" class=\"sk-toggleable__label sk-toggleable__label-arrow\">estimator: SVC</label><div class=\"sk-toggleable__content\"><pre>SVC()</pre></div></div></div><div class=\"sk-serial\"><div class=\"sk-item\"><div class=\"sk-estimator sk-toggleable\"><input class=\"sk-toggleable__control sk-hidden--visually\" id=\"sk-estimator-id-6\" type=\"checkbox\" ><label for=\"sk-estimator-id-6\" class=\"sk-toggleable__label sk-toggleable__label-arrow\">SVC</label><div class=\"sk-toggleable__content\"><pre>SVC()</pre></div></div></div></div></div></div></div></div></div></div>"
      ],
      "text/plain": [
       "GridSearchCV(estimator=SVC(),\n",
       "             param_grid=[{'C': [0.1, 1, 10], 'degree': [2, 3, 4],\n",
       "                          'kernel': ['poly']},\n",
       "                         {'C': [0.1, 1, 10], 'gamma': ['scale'],\n",
       "                          'kernel': ['rbf']},\n",
       "                         {'C': [0.1, 1, 10], 'gamma': ['scale'],\n",
       "                          'kernel': ['sigmoid']},\n",
       "                         {'C': [0.1, 1, 10], 'kernel': ['linear']}],\n",
       "             scoring='accuracy')"
      ]
     },
     "execution_count": 10,
     "metadata": {},
     "output_type": "execute_result"
    }
   ],
   "source": [
    "# grid de parametros a serem testados\n",
    "# ex: o kernel polinomial sera testado com todas as combinacoes de C e dos graus (degree) -> (C=0.1,degree=2),(C=1, degree=3)...\n",
    "# o kernel rbf (Gaussiano) sera testado com todas as combinacoes  de C\n",
    "param_grid = [\n",
    "    {'kernel':['poly'], 'C':[0.1, 1, 10], 'degree':[2, 3, 4]},\n",
    "    {'kernel':['rbf'], 'C':[0.1, 1, 10], 'gamma':['scale']}, # 'gamma':['scale', 0.01, 0.0001] # podemos colocar a variancia que desejarmos\n",
    "    {'kernel':['sigmoid'], 'C':[0.1, 1, 10], 'gamma':['scale']},\n",
    "    {'kernel':['linear'], 'C': [0.1, 1, 10]}\n",
    "]\n",
    "\n",
    "# criando instancia da SVM\n",
    "svc = SVC(verbose=False)\n",
    "# gridsearch treina a SVM com combinacoes diferentes especificados em param_grid\n",
    "# escolhemos a acuracia para medir o desempenho de cada um dos modelos treinados\n",
    "# grid_search = GridSearchCV(svc, param_grid, cv=5, scoring='accuracy')\n",
    "grid_search = GridSearchCV(svc, param_grid, scoring='accuracy')\n",
    "grid_search.fit(x_train, y_train)\n",
    "\n",
    "# tambem e possivel treinar cada modelo separadamente, avaliar cada um dos modelos e em sequencia escolher o melhor\n",
    "# svc = SVC(kernel='linear', C=0.1, verbose=False)\n",
    "# svc = SVC(kernel='poly', degree=4, C=10)\n",
    "# svc = SVC(kernel='rbf', C=1, gamma=0.01) # gamma neste caso e a variancia\n",
    "# svc.fit(x_train, y_train)"
   ]
  },
  {
   "cell_type": "code",
   "execution_count": 28,
   "metadata": {},
   "outputs": [
    {
     "name": "stdout",
     "output_type": "stream",
     "text": [
      "Melhor classificador SVM:\n",
      "\t SVC(C=0.1, kernel='linear')\n",
      "Melhores parâmetros:\n",
      "\t {'C': 0.1, 'kernel': 'linear'}\n",
      "Combinação 1 => kernel=poly, C=0.1, degree=2 => Acurácia Média: 0.9944444444444445\n",
      "Combinação 2 => kernel=poly, C=0.1, degree=3 => Acurácia Média: 0.9944444444444445\n",
      "Combinação 3 => kernel=poly, C=0.1, degree=4 => Acurácia Média: 0.9944444444444445\n",
      "Combinação 4 => kernel=poly, C=1, degree=2 => Acurácia Média: 0.9946666666666667\n",
      "Combinação 5 => kernel=poly, C=1, degree=3 => Acurácia Média: 0.9946666666666667\n",
      "Combinação 6 => kernel=poly, C=1, degree=4 => Acurácia Média: 0.9945555555555556\n",
      "Combinação 7 => kernel=poly, C=10, degree=2 => Acurácia Média: 0.9947777777777779\n",
      "Combinação 8 => kernel=poly, C=10, degree=3 => Acurácia Média: 0.9947777777777776\n",
      "Combinação 9 => kernel=poly, C=10, degree=4 => Acurácia Média: 0.9951111111111111\n",
      "Combinação 10 => kernel=rbf, C=0.1, gamma=scale => Acurácia Média: 0.9944444444444445\n",
      "Combinação 11 => kernel=rbf, C=1, gamma=scale => Acurácia Média: 0.9946666666666667\n",
      "Combinação 12 => kernel=rbf, C=10, gamma=scale => Acurácia Média: 0.9951111111111111\n",
      "Combinação 13 => kernel=sigmoid, C=0.1, gamma=scale => Acurácia Média: 0.9507777777777779\n",
      "Combinação 14 => kernel=sigmoid, C=1, gamma=scale => Acurácia Média: 0.9507777777777779\n",
      "Combinação 15 => kernel=sigmoid, C=10, gamma=scale => Acurácia Média: 0.9252222222222223\n",
      "Combinação 16 => kernel=linear, C=0.1 => Acurácia Média: 0.9991111111111112\n",
      "Combinação 17 => kernel=linear, C=1 => Acurácia Média: 0.9988888888888889\n",
      "Combinação 18 => kernel=linear, C=10 => Acurácia Média: 0.9988888888888889\n",
      "Test Acurracy: 1.0\n",
      "Test MSE: 0.0\n"
     ]
    }
   ],
   "source": [
    "# capturar os melhores resultados, tanto melhor SVM quanto os seus parâmetros\n",
    "# tambem e possivel capturar os resultados, no caso o escolhido foi acuracia\n",
    "best_svm = grid_search.best_estimator_\n",
    "best_params = grid_search.best_params_\n",
    "results = grid_search.cv_results_\n",
    "\n",
    "print(\"Melhor classificador SVM:\")\n",
    "print(f'\\t {best_svm}')\n",
    "print(\"Melhores parâmetros:\")\n",
    "print(f'\\t {best_params}')\n",
    "\n",
    "param_C = results['param_C']\n",
    "param_kernel = results['param_kernel']\n",
    "param_degree = results['param_degree']\n",
    "param_gamma = results['param_gamma']\n",
    "mean_acc_kfold = results['mean_test_score']\n",
    "\n",
    "cont = 1\n",
    "for C, kernel, degree, gamma, acc in zip(param_C, param_kernel, param_degree, param_gamma, mean_acc_kfold):\n",
    "    key = f\"kernel={kernel}, C={C}\"\n",
    "    if kernel == 'poly':\n",
    "        key += f\", degree={degree}\"\n",
    "    if kernel in ('rbf', 'sigmoid'):\n",
    "        key += f\", gamma={gamma}\"\n",
    "    print(f'Combinação {cont} => {key} => Acurácia Média: {acc}')\n",
    "    cont += 1\n",
    "\n",
    "# y_pred = svc.predict(x_test)\n",
    "y_pred = best_svm.predict(x_test)\n",
    "\n",
    "# obtendo metricas de avaliacao\n",
    "accuracy = accuracy_score(y_test, y_pred)\n",
    "mse = mean_squared_error(y_test, y_pred)\n",
    "print(f'Test Acurracy: {accuracy}')\n",
    "print(f'Test MSE: {mse}')"
   ]
  },
  {
   "cell_type": "code",
   "execution_count": 29,
   "metadata": {},
   "outputs": [
    {
     "name": "stdout",
     "output_type": "stream",
     "text": [
      "Classes: [0 1]\n"
     ]
    },
    {
     "data": {
      "image/png": "[encoded data removed]",
      "text/plain": [
       "<Figure size 640x480 with 2 Axes>"
      ]
     },
     "metadata": {},
     "output_type": "display_data"
    }
   ],
   "source": [
    "# matriz de confusao\n",
    "cm = confusion_matrix(y_test, y_pred)\n",
    "\n",
    "classes = np.unique(y_test)\n",
    "print(f'Classes: {classes}')\n",
    "\n",
    "plt.imshow(cm, interpolation='nearest', cmap=plt.cm.Reds)\n",
    "plt.title('Confusion Matrix')\n",
    "plt.colorbar()\n",
    "tick_marks = np.arange(len(classes))\n",
    "plt.xticks(tick_marks, classes)\n",
    "plt.yticks(tick_marks, classes)\n",
    "\n",
    "# Adicionar valores aos quadrados da matriz de confusao\n",
    "lim_color_black = 600  # mudar cor da letra para branco caso a cor do vermelho fique muito escura\n",
    "for i, j in np.ndindex(cm.shape):\n",
    "    plt.text(j, i, format(cm[i, j], 'd'), ha=\"center\", va=\"center\", color=\"white\" if cm[i, j] > lim_color_black else \"black\")\n",
    "\n",
    "plt.ylabel('Real')\n",
    "plt.xlabel('Predict')\n",
    "plt.tight_layout()\n",
    "plt.show()"
   ]
  }
 ],
 "metadata": {
  "kernelspec": {
   "display_name": "Python 3",
   "language": "python",
   "name": "python3"
  },
  "language_info": {
   "codemirror_mode": {
    "name": "ipython",
    "version": 3
   },
   "file_extension": ".py",
   "mimetype": "text/x-python",
   "name": "python",
   "nbconvert_exporter": "python",
   "pygments_lexer": "ipython3",
   "version": "3.10.6"
  },
  "orig_nbformat": 4
 },
 "nbformat": 4,
 "nbformat_minor": 2
}
